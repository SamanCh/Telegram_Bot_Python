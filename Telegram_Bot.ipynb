{
 "cells": [
  {
   "cell_type": "markdown",
   "metadata": {},
   "source": [
    "# Telegram Bot Notify For Long Running Codes"
   ]
  },
  {
   "cell_type": "markdown",
   "metadata": {},
   "source": [
    "#### The Telegram Bots API is an excellent tool for tell when is the cell or code finished running by using the Telegram API library of Python.\n",
    "\n"
   ]
  },
  {
   "cell_type": "markdown",
   "metadata": {},
   "source": [
    "To be able to use it, you just need to get your API token (which is extremely simple to get), add a few lines of code to your notebook, and execute it at the end of your job.\n",
    "\n",
    "How to get Telegram bot API token:\n",
    "\n",
    "In this tutorial we will look at a quick way to create a bot on Telegram.\n",
    "\n",
    "Set up your Telegram bot:\n",
    "\n",
    "You don't have to write any code for this. Actually, you don't have to use your computer or mobile phone! Just go to the Telegram app on your device complete 4 simple step:\n",
    "\n",
    "**Step 1**. Find telegram bot named \"@botfarther\", he will help you with creating and managing your bot.\n",
    "\n",
    "**Step 2**. Print “/help” and you will see all possible commands that the botfather can operate.\n",
    "\n",
    "**Step 3**. To create a new bot type “/newbot” or click on it.\n",
    "\n",
    "Follow instructions he given and create a new name to your bot. If you are making a bot only for experimentation, as it has to be a unique name, you can use namespace your bot by placing your name before it in its username. By the way, its screen name can be anything you like.\n",
    "\n",
    "**Step 4**. Congratulations! You've just created your Telegram bot. You will see a new API token generated for it.\n",
    "\n",
    "Copy your API token to the *Code*.\n",
    "\n",
    "**Finally, find your bot by searching the name you gave it and click start.**"
   ]
  },
  {
   "cell_type": "markdown",
   "metadata": {},
   "source": [
    "Next step is to find your Chat ID:\n",
    "\n",
    "Find telegram bot named \"@userinfobot\", and sending any message to this bot will give your User Chat ID"
   ]
  },
  {
   "cell_type": "markdown",
   "metadata": {},
   "source": [
    "**Copy the tiken and chat id to the code and place it at the end of your code. thats it**"
   ]
  },
  {
   "cell_type": "code",
   "execution_count": null,
   "metadata": {},
   "outputs": [],
   "source": [
    "import requests\n",
    "\n",
    "TOKEN = \"Bot_Token\" \n",
    "chat_id = \"Chat_ID\"\n",
    "\n",
    "message = \"Your Code has finished running !\"\n",
    "\n",
    "url = f\"https://api.telegram.org/bot{TOKEN}/sendMessage?chat_id={chat_id}&text={message}\"\n",
    "\n",
    "print(requests.get(url).json()) # this sends the message"
   ]
  },
  {
   "cell_type": "markdown",
   "metadata": {},
   "source": [
    "as this code runs, the bot will send you a customize message.\n",
    "\n",
    "### Good luck\n"
   ]
  }
 ],
 "metadata": {
  "kernelspec": {
   "display_name": "basic_env",
   "language": "python",
   "name": "python3"
  },
  "language_info": {
   "codemirror_mode": {
    "name": "ipython",
    "version": 3
   },
   "file_extension": ".py",
   "mimetype": "text/x-python",
   "name": "python",
   "nbconvert_exporter": "python",
   "pygments_lexer": "ipython3",
   "version": "3.12.4"
  }
 },
 "nbformat": 4,
 "nbformat_minor": 2
}
